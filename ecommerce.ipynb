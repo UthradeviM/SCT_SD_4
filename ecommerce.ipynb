{
  "nbformat": 4,
  "nbformat_minor": 0,
  "metadata": {
    "colab": {
      "provenance": []
    },
    "kernelspec": {
      "name": "python3",
      "display_name": "Python 3"
    },
    "language_info": {
      "name": "python"
    }
  },
  "cells": [
    {
      "cell_type": "code",
      "execution_count": 1,
      "metadata": {
        "colab": {
          "base_uri": "https://localhost:8080/"
        },
        "id": "JT9bTXoVbpWw",
        "outputId": "faa6fc07-9b91-4a9a-c246-2e2e686e1d96"
      },
      "outputs": [
        {
          "output_type": "stream",
          "name": "stdout",
          "text": [
            "Requirement already satisfied: requests in /usr/local/lib/python3.10/dist-packages (2.32.3)\n",
            "Requirement already satisfied: beautifulsoup4 in /usr/local/lib/python3.10/dist-packages (4.12.3)\n",
            "Requirement already satisfied: charset-normalizer<4,>=2 in /usr/local/lib/python3.10/dist-packages (from requests) (3.4.0)\n",
            "Requirement already satisfied: idna<4,>=2.5 in /usr/local/lib/python3.10/dist-packages (from requests) (3.10)\n",
            "Requirement already satisfied: urllib3<3,>=1.21.1 in /usr/local/lib/python3.10/dist-packages (from requests) (2.2.3)\n",
            "Requirement already satisfied: certifi>=2017.4.17 in /usr/local/lib/python3.10/dist-packages (from requests) (2024.8.30)\n",
            "Requirement already satisfied: soupsieve>1.2 in /usr/local/lib/python3.10/dist-packages (from beautifulsoup4) (2.6)\n"
          ]
        }
      ],
      "source": [
        "!pip install requests beautifulsoup4"
      ]
    },
    {
      "cell_type": "code",
      "source": [
        "import requests\n",
        "from bs4 import BeautifulSoup\n",
        "import csv\n",
        "\n"
      ],
      "metadata": {
        "id": "nD6scCnsb1v7"
      },
      "execution_count": 2,
      "outputs": []
    },
    {
      "cell_type": "markdown",
      "source": [],
      "metadata": {
        "id": "MLxsn-VAsCxx"
      }
    },
    {
      "cell_type": "code",
      "source": [
        "import pandas as pd"
      ],
      "metadata": {
        "id": "yHVMG55zb6gQ"
      },
      "execution_count": 31,
      "outputs": []
    },
    {
      "cell_type": "code",
      "source": [],
      "metadata": {
        "id": "prphJKzBc46T"
      },
      "execution_count": 6,
      "outputs": []
    },
    {
      "cell_type": "code",
      "source": [
        "articles = ol.find_all('article', class_='product_pod')"
      ],
      "metadata": {
        "id": "XB5vqMcFkJiN"
      },
      "execution_count": 28,
      "outputs": []
    },
    {
      "cell_type": "code",
      "source": [
        "\n",
        "books = []\n",
        "for i in range(1,5):\n",
        "    url = f\"https://books.toscrape.com/catalogue/page-{i}.html\" # This line and subsequent lines within the loop need to be indented.\n",
        "    response = requests.get(url)\n",
        "    html_content = response.content\n",
        "    soup = BeautifulSoup(html_content, 'html.parser')\n",
        "    ol = soup.find('ol')\n",
        "    articles = ol.find_all('article', class_='product_pod')\n",
        "\n",
        "    for article in articles:\n",
        "        image = article.find('img')\n",
        "        title = image['alt']\n",
        "        star = article.find('p')\n",
        "        star = star['class'][1]\n",
        "        price = article.find('p', class_='price_color')\n",
        "        price = float(price.text[1:])\n",
        "        books.append([title, price, star])\n"
      ],
      "metadata": {
        "id": "97172ywtrA3K"
      },
      "execution_count": 34,
      "outputs": []
    },
    {
      "cell_type": "code",
      "source": [
        "df = pd.DataFrame(books, columns=['Title', 'Price', 'Star Rating'])"
      ],
      "metadata": {
        "id": "vNrT-W7auxM8"
      },
      "execution_count": 35,
      "outputs": []
    },
    {
      "cell_type": "code",
      "source": [
        "df.to_csv('books.csv')"
      ],
      "metadata": {
        "id": "54KypuvkvZAE"
      },
      "execution_count": 36,
      "outputs": []
    }
  ]
}